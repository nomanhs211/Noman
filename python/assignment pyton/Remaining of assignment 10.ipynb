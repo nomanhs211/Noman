{
 "cells": [
  {
   "cell_type": "code",
   "execution_count": 1,
   "metadata": {},
   "outputs": [
    {
     "name": "stdout",
     "output_type": "stream",
     "text": [
      "Subject.1\n",
      "Accounting\n",
      "\n",
      "Subject.2\n",
      "Economics\n",
      "\n",
      "Subject.3\n",
      "Urdu\n",
      "\n",
      "Subject.4\n",
      "Islamiat\n",
      "\n",
      "Subject.5\n",
      "English\n",
      "\n"
     ]
    }
   ],
   "source": [
    "first_name = [\"Subject.\"]\n",
    "last_name =   [\"Accounting\\n\", \"Economics\\n\",\"Urdu\\n\",\"Islamiat\\n\",\"English\\n\"]\n",
    "\n",
    "for first in first_name:\n",
    "    for last in last_name:\n",
    "        a = input(first)\n",
    "        print(last)\n"
   ]
  },
  {
   "cell_type": "code",
   "execution_count": null,
   "metadata": {},
   "outputs": [],
   "source": []
  }
 ],
 "metadata": {
  "kernelspec": {
   "display_name": "Python 3",
   "language": "python",
   "name": "python3"
  },
  "language_info": {
   "codemirror_mode": {
    "name": "ipython",
    "version": 3
   },
   "file_extension": ".py",
   "mimetype": "text/x-python",
   "name": "python",
   "nbconvert_exporter": "python",
   "pygments_lexer": "ipython3",
   "version": "3.7.6"
  }
 },
 "nbformat": 4,
 "nbformat_minor": 4
}
