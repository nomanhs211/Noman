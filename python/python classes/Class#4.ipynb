{
 "cells": [
  {
   "cell_type": "code",
   "execution_count": 10,
   "metadata": {},
   "outputs": [
    {
     "name": "stdout",
     "output_type": "stream",
     "text": [
      "20\n"
     ]
    }
   ],
   "source": [
    "#if Statement Nested\n",
    "x = 5\n",
    "y = 10\n",
    "a = 20\n",
    "b = 20\n",
    "c = 15\n",
    "d = 15\n",
    "e = 25\n",
    "f = 2\n",
    "g = 0\n",
    "h = 20\n",
    "\n",
    "if c == d:\n",
    "    if x == y:\n",
    "        g = h\n",
    "        print(g)\n",
    "    elif a == b:\n",
    "        g = h\n",
    "        print(g)\n",
    "    else:\n",
    "        e = f\n",
    "        print(e)\n",
    "else:\n",
    "    e = f\n",
    "    print(f)"
   ]
  },
  {
   "cell_type": "code",
   "execution_count": 5,
   "metadata": {},
   "outputs": [
    {
     "name": "stdout",
     "output_type": "stream",
     "text": [
      "False\n"
     ]
    }
   ],
   "source": [
    "#indentation\n",
    "\n",
    "a = 10\n",
    "b = 5\n",
    "\n",
    "if a == b:    \n",
    "    \n",
    "print(\"True\")\n",
    "\n",
    "else:\n",
    "    \n",
    "print(\"False\")"
   ]
  },
  {
   "cell_type": "code",
   "execution_count": 13,
   "metadata": {},
   "outputs": [
    {
     "data": {
      "text/plain": [
       "'\\nwhat is your name?\\nwhat is your name?\\nwhat is your name?\\nwhat is your name?\\n'"
      ]
     },
     "execution_count": 13,
     "metadata": {},
     "output_type": "execute_result"
    }
   ],
   "source": [
    "#Comments\n",
    "#what is your name?\n",
    "'''\n",
    "what is your name?\n",
    "what is your name?\n",
    "what is your name?\n",
    "what is your name?\n",
    "'''"
   ]
  },
  {
   "cell_type": "code",
   "execution_count": 22,
   "metadata": {},
   "outputs": [
    {
     "name": "stdout",
     "output_type": "stream",
     "text": [
      "Welcome to Ali\n"
     ]
    }
   ],
   "source": [
    "name = [\"Zunaib\",\"Bilal\",\"Ali\",25,False,15.2]\n",
    "\n",
    "print(\"Welcome to \" + name[2])"
   ]
  },
  {
   "cell_type": "code",
   "execution_count": 26,
   "metadata": {},
   "outputs": [
    {
     "name": "stdout",
     "output_type": "stream",
     "text": [
      "['Zunaib', 'Bilal', 'Ali', 25, False, 15.2, 'Huzaifa', 'Huzaifa', 'Huzaifa']\n"
     ]
    }
   ],
   "source": [
    "name.append(\"Huzaifa\")\n",
    "print(name)"
   ]
  },
  {
   "cell_type": "code",
   "execution_count": 28,
   "metadata": {},
   "outputs": [
    {
     "name": "stdout",
     "output_type": "stream",
     "text": [
      "['Zunaib', 'Bilal', 'Ali', 25, False, 15.2, 'Huzaifa']\n"
     ]
    }
   ],
   "source": [
    "name = ['Zunaib', 'Bilal', 'Ali', 25, False, 15.2, 'Huzaifa']\n",
    "print(name)"
   ]
  },
  {
   "cell_type": "code",
   "execution_count": 29,
   "metadata": {},
   "outputs": [
    {
     "name": "stdout",
     "output_type": "stream",
     "text": [
      "['Zunaib', 'Bilal', 'Ali', 25, False, 15.2, 'Huzaifa', 'Zubair']\n"
     ]
    }
   ],
   "source": [
    "#Append Fuction\n",
    "name.append(\"Zubair\")\n",
    "print(name)"
   ]
  },
  {
   "cell_type": "code",
   "execution_count": 30,
   "metadata": {},
   "outputs": [
    {
     "name": "stdout",
     "output_type": "stream",
     "text": [
      "['Zunaib', 'Bilal', 'Ali', 25, False, 15.2, 'Huzaifa', 'Zubair', 'Alisha']\n"
     ]
    }
   ],
   "source": [
    "name.append(\"Alisha\")\n",
    "print(name)"
   ]
  },
  {
   "cell_type": "code",
   "execution_count": 32,
   "metadata": {},
   "outputs": [
    {
     "name": "stdout",
     "output_type": "stream",
     "text": [
      "['Zunaib', 'Ahmed', 'Ahmed', 'Bilal', 'Ali', 25, False, 15.2, 'Huzaifa', 'Zubair', 'Alisha']\n"
     ]
    }
   ],
   "source": [
    "#Insert Fuction\n",
    "name.insert(1 , \"Ahmed\")\n",
    "print(name)"
   ]
  },
  {
   "cell_type": "code",
   "execution_count": 33,
   "metadata": {},
   "outputs": [
    {
     "name": "stdout",
     "output_type": "stream",
     "text": [
      "['Zunaib', 'Bilal', 'Ali', 25, False, 15.2, 'Alisha']\n"
     ]
    }
   ],
   "source": [
    "name = ['Zunaib', 'Bilal', 'Ali', 25, False, 15.2, 'Alisha']\n",
    "print(name)"
   ]
  },
  {
   "cell_type": "code",
   "execution_count": 34,
   "metadata": {},
   "outputs": [
    {
     "name": "stdout",
     "output_type": "stream",
     "text": [
      "['Zunaib', 'Bilal', 'Ahmed', 25, False, 15.2, 'Alisha']\n"
     ]
    }
   ],
   "source": [
    "#Change Values\n",
    "name[2] = \"Ahmed\"\n",
    "print(name)"
   ]
  },
  {
   "cell_type": "code",
   "execution_count": 35,
   "metadata": {},
   "outputs": [
    {
     "name": "stdout",
     "output_type": "stream",
     "text": [
      "['Zunaib', 'Bilal', 'Ahmed']\n"
     ]
    }
   ],
   "source": [
    "#Slice\n",
    "arr = name[0:3]\n",
    "print(arr)"
   ]
  },
  {
   "cell_type": "code",
   "execution_count": 37,
   "metadata": {},
   "outputs": [
    {
     "name": "stdout",
     "output_type": "stream",
     "text": [
      "['Zunaib', 'Bilal', 'Ahmed', 25, False, 15.2, 'Alisha']\n"
     ]
    }
   ],
   "source": [
    "arr = name[0 : ]\n",
    "print(arr)"
   ]
  },
  {
   "cell_type": "code",
   "execution_count": 38,
   "metadata": {},
   "outputs": [
    {
     "data": {
      "text/plain": [
       "['Zunaib', 'Bilal', 'Ahmed', 25, False, 15.2, 'Alisha']"
      ]
     },
     "execution_count": 38,
     "metadata": {},
     "output_type": "execute_result"
    }
   ],
   "source": [
    "arr"
   ]
  },
  {
   "cell_type": "code",
   "execution_count": 39,
   "metadata": {},
   "outputs": [
    {
     "name": "stdout",
     "output_type": "stream",
     "text": [
      "['Zunaib', 'Bilal', 'Ahmed', 25, False, 'Alisha']\n"
     ]
    }
   ],
   "source": [
    "#Delete Valuse by index number\n",
    "del arr[5]\n",
    "print(arr)"
   ]
  },
  {
   "cell_type": "code",
   "execution_count": 43,
   "metadata": {},
   "outputs": [
    {
     "ename": "ValueError",
     "evalue": "list.remove(x): x not in list",
     "output_type": "error",
     "traceback": [
      "\u001b[1;31m---------------------------------------------------------------------------\u001b[0m",
      "\u001b[1;31mValueError\u001b[0m                                Traceback (most recent call last)",
      "\u001b[1;32m<ipython-input-43-874a1fa0c7de>\u001b[0m in \u001b[0;36m<module>\u001b[1;34m\u001b[0m\n\u001b[1;32m----> 1\u001b[1;33m \u001b[0marr\u001b[0m\u001b[1;33m.\u001b[0m\u001b[0mremove\u001b[0m\u001b[1;33m(\u001b[0m\u001b[1;32mFalse\u001b[0m\u001b[1;33m)\u001b[0m\u001b[1;33m\u001b[0m\u001b[1;33m\u001b[0m\u001b[0m\n\u001b[0m\u001b[0;32m      2\u001b[0m \u001b[0mprint\u001b[0m\u001b[1;33m(\u001b[0m\u001b[0marr\u001b[0m\u001b[1;33m)\u001b[0m\u001b[1;33m\u001b[0m\u001b[1;33m\u001b[0m\u001b[0m\n",
      "\u001b[1;31mValueError\u001b[0m: list.remove(x): x not in list"
     ]
    }
   ],
   "source": [
    "arr.remove(False)\n",
    "print(arr)"
   ]
  },
  {
   "cell_type": "code",
   "execution_count": 44,
   "metadata": {},
   "outputs": [
    {
     "name": "stdout",
     "output_type": "stream",
     "text": [
      "['Zunaib', 'Bilal', 'Ahmed', 25]\n"
     ]
    }
   ],
   "source": [
    "#Remove Valuse by Name\n",
    "\n",
    "arr.remove(\"Alisha\")\n",
    "print(arr)"
   ]
  },
  {
   "cell_type": "code",
   "execution_count": 45,
   "metadata": {},
   "outputs": [
    {
     "name": "stdout",
     "output_type": "stream",
     "text": [
      "Bilal\n"
     ]
    }
   ],
   "source": [
    "#Pop\n",
    "a = arr.pop(1)\n",
    "print(a)"
   ]
  },
  {
   "cell_type": "code",
   "execution_count": 46,
   "metadata": {},
   "outputs": [
    {
     "data": {
      "text/plain": [
       "['Zunaib', 'Ahmed', 25]"
      ]
     },
     "execution_count": 46,
     "metadata": {},
     "output_type": "execute_result"
    }
   ],
   "source": [
    "arr"
   ]
  },
  {
   "cell_type": "code",
   "execution_count": 47,
   "metadata": {},
   "outputs": [
    {
     "name": "stdout",
     "output_type": "stream",
     "text": [
      "Zunaib\n"
     ]
    }
   ],
   "source": [
    "b = arr.pop(0)\n",
    "print(b)"
   ]
  },
  {
   "cell_type": "code",
   "execution_count": 49,
   "metadata": {},
   "outputs": [
    {
     "data": {
      "text/plain": [
       "['Ahmed', 25]"
      ]
     },
     "execution_count": 49,
     "metadata": {},
     "output_type": "execute_result"
    }
   ],
   "source": [
    "arr"
   ]
  },
  {
   "cell_type": "code",
   "execution_count": 50,
   "metadata": {},
   "outputs": [
    {
     "name": "stdout",
     "output_type": "stream",
     "text": [
      "25\n"
     ]
    }
   ],
   "source": [
    "b = arr.pop()\n",
    "print(b)"
   ]
  },
  {
   "cell_type": "code",
   "execution_count": 51,
   "metadata": {},
   "outputs": [
    {
     "name": "stdout",
     "output_type": "stream",
     "text": [
      "['Zunaib', 'Bilal', 'Ahmed', 25, False, 'Alisha']\n"
     ]
    }
   ],
   "source": [
    "name = ['Zunaib', 'Bilal', 'Ahmed', 25, False, 'Alisha']\n",
    "print(name)"
   ]
  },
  {
   "cell_type": "code",
   "execution_count": 53,
   "metadata": {},
   "outputs": [
    {
     "name": "stdout",
     "output_type": "stream",
     "text": [
      "['Zunaib', 'Bilal', 'Ahmed', 25]\n"
     ]
    }
   ],
   "source": [
    "name.pop()\n",
    "print(name)"
   ]
  },
  {
   "cell_type": "code",
   "execution_count": 54,
   "metadata": {},
   "outputs": [
    {
     "name": "stdout",
     "output_type": "stream",
     "text": [
      "['Zunaib', 'Bilal', 'Ahmed']\n"
     ]
    }
   ],
   "source": [
    "name.pop()\n",
    "print(name)"
   ]
  }
 ],
 "metadata": {
  "kernelspec": {
   "display_name": "Python 3",
   "language": "python",
   "name": "python3"
  },
  "language_info": {
   "codemirror_mode": {
    "name": "ipython",
    "version": 3
   },
   "file_extension": ".py",
   "mimetype": "text/x-python",
   "name": "python",
   "nbconvert_exporter": "python",
   "pygments_lexer": "ipython3",
   "version": "3.7.1"
  }
 },
 "nbformat": 4,
 "nbformat_minor": 2
}
