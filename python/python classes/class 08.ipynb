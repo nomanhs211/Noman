{
 "cells": [
  {
   "cell_type": "code",
   "execution_count": 1,
   "metadata": {},
   "outputs": [
    {
     "name": "stdout",
     "output_type": "stream",
     "text": [
      "Q1) Color of Apple?\n",
      "  a) Red\n",
      "  b) Blue\n",
      "  c) Green\n",
      "  d) Black\n",
      "Select option:A\n",
      "correct Answer\n"
     ]
    }
   ],
   "source": [
    "#QuizApp\n",
    "print(\"Q1) Color of Apple?\")\n",
    "print(\"  a) Red\")\n",
    "print(\"  b) Blue\")\n",
    "print(\"  c) Green\")\n",
    "print(\"  d) Black\")\n",
    "\n",
    "answer = input(\"Select option:\")\n",
    "if answer == \"a\":\n",
    "    print(\"correct Answer\")\n",
    "else:\n",
    "        print(\"wrong Answer\")\n",
    "    "
   ]
  },
  {
   "cell_type": "code",
   "execution_count": 19,
   "metadata": {},
   "outputs": [
    {
     "name": "stdout",
     "output_type": "stream",
     "text": [
      "\n",
      "Q1) Color of Apple?\n",
      " a) Red\n",
      " b) Green\n",
      " c) Blue \n",
      "d) Black\n",
      " a\n",
      "\n",
      "Correct answer\n",
      "\n",
      "Q2) Quality of Man?\n",
      " a) Tall\n",
      " b) Small\n",
      " c) Fat\n",
      " d) thin\n",
      " d\n",
      "\n",
      "Correct answer\n",
      "\n",
      "Q3) Type of Mobile?\n",
      " a) Samesung\n",
      " b) Infinix\n",
      " c) Oppo\n",
      " d) Nokia\n",
      " b\n",
      "\n",
      "Correct answer\n"
     ]
    }
   ],
   "source": [
    "quiz = [\"\\nQ1) Color of Apple?\\n a) Red\\n b) Green\\n c) Blue \\nd) Black\\n \",\n",
    "        \"\\nQ2) Quality of Man?\\n a) Tall\\n b) Small\\n c) Fat\\n d) thin\\n \",\n",
    "        \"\\nQ3) Type of Mobile?\\n a) Samesung\\n b) Infinix\\n c) Oppo\\n d) Nokia\\n \"\n",
    "       ]\n",
    "ans = [\"a\",\"d\",\"b\"]\n",
    "i  = 0\n",
    "for question in quiz:\n",
    "    answer = input(question)\n",
    "    if answer == ans[i]:\n",
    "        i = i+1\n",
    "        print(\"\\nCorrect answer\")\n",
    "    else:\n",
    "            print(\"\\nWrong answer\")\n",
    "    "
   ]
  },
  {
   "cell_type": "code",
   "execution_count": null,
   "metadata": {},
   "outputs": [],
   "source": []
  },
  {
   "cell_type": "code",
   "execution_count": null,
   "metadata": {},
   "outputs": [],
   "source": []
  },
  {
   "cell_type": "code",
   "execution_count": null,
   "metadata": {},
   "outputs": [],
   "source": []
  }
 ],
 "metadata": {
  "kernelspec": {
   "display_name": "Python 3",
   "language": "python",
   "name": "python3"
  },
  "language_info": {
   "codemirror_mode": {
    "name": "ipython",
    "version": 3
   },
   "file_extension": ".py",
   "mimetype": "text/x-python",
   "name": "python",
   "nbconvert_exporter": "python",
   "pygments_lexer": "ipython3",
   "version": "3.7.6"
  }
 },
 "nbformat": 4,
 "nbformat_minor": 4
}
