{
 "cells": [
  {
   "cell_type": "code",
   "execution_count": 1,
   "metadata": {},
   "outputs": [
    {
     "name": "stdout",
     "output_type": "stream",
     "text": [
      "['Ali', 'Bilal', 'bilal']\n"
     ]
    }
   ],
   "source": [
    "#list(array)\n",
    "name = [\"Ali\",\"Bilal\",\"bilal\" ]\n",
    "print(name)"
   ]
  },
  {
   "cell_type": "code",
   "execution_count": 2,
   "metadata": {},
   "outputs": [
    {
     "name": "stdout",
     "output_type": "stream",
     "text": [
      "Ali\n"
     ]
    }
   ],
   "source": [
    "name = [\"Ali\",\"Bilal\",\"bilal\",23 ]\n",
    "print(name[0])"
   ]
  },
  {
   "cell_type": "code",
   "execution_count": 5,
   "metadata": {},
   "outputs": [
    {
     "name": "stdout",
     "output_type": "stream",
     "text": [
      "welcome to Bilal\n"
     ]
    }
   ],
   "source": [
    "name = [\"Ali\",\"Bilal\",\"bilal\",23 ]\n",
    "print( \"welcome to \" + name[1])"
   ]
  },
  {
   "cell_type": "code",
   "execution_count": 11,
   "metadata": {},
   "outputs": [
    {
     "name": "stdout",
     "output_type": "stream",
     "text": [
      "['Ali', 'Bilal', 'bilal', 'zubair', 'zubair', 'ali', 'buloch', 'furqan']\n"
     ]
    }
   ],
   "source": [
    "#increasing other name in the index(append)\n",
    "name.append(\"furqan\")\n",
    "print(name)"
   ]
  },
  {
   "cell_type": "code",
   "execution_count": 16,
   "metadata": {},
   "outputs": [
    {
     "name": "stdout",
     "output_type": "stream",
     "text": [
      "['ahmed', 'ahmed', 'ahmed', 'ahmed', 'Ali', 'haris', 'Bilal', 'bilal', 'zubair', 'zubair', 'ali', 'buloch', 'furqan']\n"
     ]
    }
   ],
   "source": [
    "#insert name\n",
    "name.insert(5,\"haris\")\n",
    "print(name)"
   ]
  },
  {
   "cell_type": "code",
   "execution_count": 18,
   "metadata": {},
   "outputs": [
    {
     "name": "stdout",
     "output_type": "stream",
     "text": [
      "['ahmed', 'ahmed', 'ahmed', 'ahmed', 'Ali', 'haris', 'Bilal', 'haji', 'zubair', 'zubair', 'ali', 'buloch', 'furqan']\n"
     ]
    }
   ],
   "source": [
    "#replacing name\n",
    "name[7] = \"haji\"\n",
    "print(name)"
   ]
  },
  {
   "cell_type": "code",
   "execution_count": 19,
   "metadata": {},
   "outputs": [
    {
     "name": "stdout",
     "output_type": "stream",
     "text": [
      "['ahmed', 'ahmed', 'ahmed', 'ahmed', 'Ali', 'haris']\n"
     ]
    }
   ],
   "source": [
    "# slice (store value in other variable)\n",
    "list = name[0:6]\n",
    "print(list)\n"
   ]
  },
  {
   "cell_type": "code",
   "execution_count": 22,
   "metadata": {},
   "outputs": [
    {
     "name": "stdout",
     "output_type": "stream",
     "text": [
      "['ahmed', 'ahmed', 'ahmed', 'Ali', 'haris']\n"
     ]
    }
   ],
   "source": [
    "#deleting\n",
    "del list [2]\n",
    "print(list)"
   ]
  },
  {
   "cell_type": "code",
   "execution_count": 26,
   "metadata": {},
   "outputs": [
    {
     "name": "stdout",
     "output_type": "stream",
     "text": [
      "['ahmed', 'haris']\n"
     ]
    }
   ],
   "source": [
    "list.remove(\"Ali\")\n",
    "print(list)"
   ]
  },
  {
   "cell_type": "code",
   "execution_count": 28,
   "metadata": {},
   "outputs": [
    {
     "name": "stdout",
     "output_type": "stream",
     "text": [
      "haji\n"
     ]
    }
   ],
   "source": [
    "a = name.pop(4)\n",
    "print(a)"
   ]
  },
  {
   "cell_type": "code",
   "execution_count": 5,
   "metadata": {},
   "outputs": [
    {
     "name": "stdout",
     "output_type": "stream",
     "text": [
      "['Ali', 'Bilal', 'shafique', 'nazeer', 'basheer']\n"
     ]
    }
   ],
   "source": [
    "m = [\"Ali\",\"Bilal\",\"shafique\",\"nazeer\",\"basheer\" ]\n",
    "print(m)"
   ]
  },
  {
   "cell_type": "code",
   "execution_count": 6,
   "metadata": {},
   "outputs": [
    {
     "name": "stdout",
     "output_type": "stream",
     "text": [
      "shafique\n"
     ]
    }
   ],
   "source": [
    "a = m.pop(2)\n",
    "print(a)\n",
    "    "
   ]
  }
 ],
 "metadata": {
  "kernelspec": {
   "display_name": "Python 3",
   "language": "python",
   "name": "python3"
  },
  "language_info": {
   "codemirror_mode": {
    "name": "ipython",
    "version": 3
   },
   "file_extension": ".py",
   "mimetype": "text/x-python",
   "name": "python",
   "nbconvert_exporter": "python",
   "pygments_lexer": "ipython3",
   "version": "3.7.6"
  }
 },
 "nbformat": 4,
 "nbformat_minor": 4
}
