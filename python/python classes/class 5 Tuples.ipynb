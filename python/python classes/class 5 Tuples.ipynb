{
 "cells": [
  {
   "cell_type": "code",
   "execution_count": 1,
   "metadata": {},
   "outputs": [
    {
     "name": "stdout",
     "output_type": "stream",
     "text": [
      "('red', 'blue', 'green', 'yellow', 'Black')\n"
     ]
    }
   ],
   "source": [
    "#tuples\n",
    "colors = (\"red\", \"blue\",\"green\",\"yellow\",\"Black\")\n",
    "print(colors)"
   ]
  },
  {
   "cell_type": "code",
   "execution_count": 7,
   "metadata": {},
   "outputs": [
    {
     "name": "stdout",
     "output_type": "stream",
     "text": [
      "green\n"
     ]
    }
   ],
   "source": [
    "colors = (\"red\", \"blue\",\"green\",\"yellow\",\"Black\")\n",
    "print(colors [2]) "
   ]
  },
  {
   "cell_type": "code",
   "execution_count": 11,
   "metadata": {},
   "outputs": [
    {
     "name": "stdout",
     "output_type": "stream",
     "text": [
      "Q)what is \tyour Name?\n",
      "Ans)My name is Ahmed.\n"
     ]
    }
   ],
   "source": [
    "print(\"Q)what is \\tyour Name?\\nAns)My name is Ahmed.\")"
   ]
  },
  {
   "cell_type": "code",
   "execution_count": 22,
   "metadata": {},
   "outputs": [
    {
     "name": "stdout",
     "output_type": "stream",
     "text": [
      "0\n",
      "1\n",
      "2\n",
      "3\n",
      "4\n",
      "5\n",
      "6\n",
      "7\n",
      "8\n",
      "9\n"
     ]
    }
   ],
   "source": [
    "#for loop\n",
    "for L in range(0, 10):\n",
    "               print(L)"
   ]
  },
  {
   "cell_type": "code",
   "execution_count": 23,
   "metadata": {},
   "outputs": [
    {
     "name": "stdout",
     "output_type": "stream",
     "text": [
      "welcome to blue\n"
     ]
    }
   ],
   "source": [
    "colors = [\"red\", \"blue\",\"green\",\"yellow\",\"Black\"]\n",
    "print(\"welcome to \" + colors[1])"
   ]
  },
  {
   "cell_type": "code",
   "execution_count": 29,
   "metadata": {},
   "outputs": [
    {
     "name": "stdout",
     "output_type": "stream",
     "text": [
      "welcome to red\n",
      "welcome to blue\n",
      "welcome to green\n",
      "welcome to yellow\n",
      "welcome to Black\n"
     ]
    }
   ],
   "source": [
    "colors = [\"red\", \"blue\",\"green\",\"yellow\",\"Black\"]\n",
    "\n",
    "for L in colors:\n",
    "    print(\"welcome to \" + L)"
   ]
  },
  {
   "cell_type": "code",
   "execution_count": 33,
   "metadata": {},
   "outputs": [
    {
     "name": "stdout",
     "output_type": "stream",
     "text": [
      "welcome to red\n",
      "welcome to blue\n",
      "welcome to green\n"
     ]
    }
   ],
   "source": [
    "#break\n",
    "colors = [\"red\", \"blue\",\"green\",\"yellow\",\"Black\"]\n",
    "\n",
    "for L in colors:\n",
    "    print(\"welcome to \" + L)\n",
    "    if L == \"green\":\n",
    "        break"
   ]
  },
  {
   "cell_type": "code",
   "execution_count": 5,
   "metadata": {},
   "outputs": [
    {
     "name": "stdout",
     "output_type": "stream",
     "text": [
      "['Mr. red', 'Mr. blue', 'Mr. green', 'Mr. yellow', 'Mr. Black']\n"
     ]
    }
   ],
   "source": [
    "#Nested loops\n",
    "first_name = [\"Mr.\"]\n",
    "last_name =   [\"red\", \"blue\",\"green\",\"yellow\",\"Black\"]\n",
    "full_name = []\n",
    "for first in first_name:\n",
    "    for last in last_name:\n",
    "\n",
    "        full_name.append(first + \" \" + last)\n",
    "print(full_name)"
   ]
  },
  {
   "cell_type": "code",
   "execution_count": null,
   "metadata": {},
   "outputs": [],
   "source": []
  },
  {
   "cell_type": "code",
   "execution_count": 87,
   "metadata": {},
   "outputs": [
    {
     "name": "stdout",
     "output_type": "stream",
     "text": [
      "['Mr. red', 'Mr. blue', 'Mr. green', 'Mr. yellow', 'Mr. Black', 'Janab red', 'Janab blue', 'Janab green', 'Janab yellow', 'Janab Black']\n"
     ]
    }
   ],
   "source": [
    "first_name = [\"Mr.\",\"Janab\"]\n",
    "last_name  =   [\"red\", \"blue\",\"green\",\"yellow\",\"Black\"]\n",
    "full_name  = []\n",
    "for first in first_name:\n",
    "    for last in last_name:\n",
    "        \n",
    "        \n",
    "        full_name.append(first + \" \" + last)\n",
    "print(full_name)\n"
   ]
  },
  {
   "cell_type": "code",
   "execution_count": 6,
   "metadata": {},
   "outputs": [
    {
     "name": "stdout",
     "output_type": "stream",
     "text": [
      "ahmed\n"
     ]
    }
   ],
   "source": [
    "#changing case\n",
    "a =\"AHMED\"\n",
    "print(a.lower())"
   ]
  },
  {
   "cell_type": "code",
   "execution_count": 7,
   "metadata": {},
   "outputs": [
    {
     "name": "stdout",
     "output_type": "stream",
     "text": [
      "Ahmed\n"
     ]
    }
   ],
   "source": [
    "a =\"AHMED\"\n",
    "print(a.title())"
   ]
  },
  {
   "cell_type": "code",
   "execution_count": 8,
   "metadata": {},
   "outputs": [
    {
     "name": "stdout",
     "output_type": "stream",
     "text": [
      "RED\n",
      "BLUE\n",
      "GREEN\n",
      "YELLOW\n",
      "BLACK\n"
     ]
    }
   ],
   "source": [
    "name =  [\"red\", \"blue\",\"green\",\"yellow\",\"Black\"]\n",
    "for i in name:\n",
    "    print(i.upper())"
   ]
  },
  {
   "cell_type": "code",
   "execution_count": null,
   "metadata": {},
   "outputs": [],
   "source": []
  },
  {
   "cell_type": "code",
   "execution_count": null,
   "metadata": {},
   "outputs": [],
   "source": []
  }
 ],
 "metadata": {
  "kernelspec": {
   "display_name": "Python 3",
   "language": "python",
   "name": "python3"
  },
  "language_info": {
   "codemirror_mode": {
    "name": "ipython",
    "version": 3
   },
   "file_extension": ".py",
   "mimetype": "text/x-python",
   "name": "python",
   "nbconvert_exporter": "python",
   "pygments_lexer": "ipython3",
   "version": "3.7.6"
  }
 },
 "nbformat": 4,
 "nbformat_minor": 4
}
