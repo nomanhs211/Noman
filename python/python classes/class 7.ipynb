{
 "cells": [
  {
   "cell_type": "code",
   "execution_count": 1,
   "metadata": {},
   "outputs": [
    {
     "name": "stdout",
     "output_type": "stream",
     "text": [
      "{'name': 'Zunaib', 'class': 5, 'age': 18, 'Address': ['Karachi,Khuzdar, Pakistan'], 'phone': 3337778878}\n"
     ]
    }
   ],
   "source": [
    "#create list in the dictionary\n",
    "a = {\n",
    "    \"name\":\"Zunaib\",\n",
    "    \"class\":5,\n",
    "    \"age\":18,\n",
    "    \"Address\":[\"Karachi,Khuzdar, Pakistan\"],\n",
    "    \"phone\":3337778878\n",
    "}\n",
    "print(a)"
   ]
  },
  {
   "cell_type": "code",
   "execution_count": 2,
   "metadata": {},
   "outputs": [
    {
     "name": "stdout",
     "output_type": "stream",
     "text": [
      "Khuzdar\n"
     ]
    }
   ],
   "source": [
    "a = {\n",
    "    \"name\":\"Zunaib\",\n",
    "    \"class\":5,\n",
    "    \"age\":18,\n",
    "    \"city\": [\"Karachi\",\"Khuzdar\", \"Pakistan\"],\n",
    "    \"phone\":3337778878\n",
    "    }\n",
    "print(a[\"city\"][1] )"
   ]
  },
  {
   "cell_type": "code",
   "execution_count": 15,
   "metadata": {},
   "outputs": [
    {
     "name": "stdout",
     "output_type": "stream",
     "text": [
      "{'name': 'Zunaib', 'class': 5, 'age': 18, 'Address': 'Karachi Pakistan', 'phone': 3337778878}\n"
     ]
    }
   ],
   "source": [
    "# dictionary in dictionry\n",
    "good = { \n",
    "   \"0\": {\n",
    "                    \"name\":\"Zunaib\",\n",
    "                    \"class\":5,\n",
    "                    \"age\":18,\n",
    "                    \"Address\":\"Karachi Pakistan\",\n",
    "                    \"phone\":3337778878,\n",
    "            },\n",
    "    \"1\": {\n",
    "                    \"name\":\"Ahmed\",\n",
    "                    \"class\":9,\n",
    "                    \"age\":17,\n",
    "                    \"Address\":\"Karachi Pakistan\",\n",
    "                    \"phone\": 333774544,\n",
    "            },\n",
    "\n",
    "}\n",
    "    \n",
    "print(good[\"0\"])"
   ]
  },
  {
   "cell_type": "code",
   "execution_count": 1,
   "metadata": {},
   "outputs": [
    {
     "name": "stdout",
     "output_type": "stream",
     "text": [
      "9\n"
     ]
    }
   ],
   "source": [
    "# dictionary in dictionry\n",
    "good = { \n",
    "   \"zunaib\": {\n",
    "                    \"name\":\"Zunaib\",\n",
    "                    \"class\":5,\n",
    "                    \"age\":18,\n",
    "                    \"Address\":\"Karachi Pakistan\",\n",
    "                    \"phone\":3337778878,\n",
    "            },\n",
    "    \"Bilal\": {\n",
    "                    \"name\":\"Ahmed\",\n",
    "                    \"class\":9,\n",
    "                    \"age\":17,\n",
    "                    \"Address\":\"Karachi Pakistan\",\n",
    "                    \"phone\": 333774544,\n",
    "            },\n",
    "\n",
    "}\n",
    "    \n",
    "print(good[\"Bilal\"])"
   ]
  },
  {
   "cell_type": "code",
   "execution_count": null,
   "metadata": {},
   "outputs": [],
   "source": []
  },
  {
   "cell_type": "code",
   "execution_count": null,
   "metadata": {},
   "outputs": [],
   "source": []
  },
  {
   "cell_type": "code",
   "execution_count": 16,
   "metadata": {},
   "outputs": [
    {
     "name": "stdout",
     "output_type": "stream",
     "text": [
      "18\n"
     ]
    }
   ],
   "source": [
    "# dictionary in dictionry\n",
    "good = { \n",
    "   \"0\": {\n",
    "                    \"name\":\"Zunaib\",\n",
    "                    \"class\":5,\n",
    "                    \"age\":18,\n",
    "                    \"Address\":\"Karachi Pakistan\",\n",
    "                    \"phone\":3337778878,\n",
    "            },\n",
    "    \"1\": {\n",
    "                    \"name\":\"Ahmed\",\n",
    "                    \"class\":9,\n",
    "                    \"age\":17,\n",
    "                    \"Address\":\"Karachi Pakistan\",\n",
    "                    \"phone\": 333774544,\n",
    "            },\n",
    "\n",
    "}\n",
    "    \n",
    "print(good[\"0\"][\"age\"])"
   ]
  }
 ],
 "metadata": {
  "kernelspec": {
   "display_name": "Python 3",
   "language": "python",
   "name": "python3"
  },
  "language_info": {
   "codemirror_mode": {
    "name": "ipython",
    "version": 3
   },
   "file_extension": ".py",
   "mimetype": "text/x-python",
   "name": "python",
   "nbconvert_exporter": "python",
   "pygments_lexer": "ipython3",
   "version": "3.7.6"
  }
 },
 "nbformat": 4,
 "nbformat_minor": 4
}
