{
 "cells": [
  {
   "cell_type": "code",
   "execution_count": 1,
   "metadata": {},
   "outputs": [
    {
     "name": "stdout",
     "output_type": "stream",
     "text": [
      "what is your name?: noman\n",
      "what is yor college name?; Noor e Hamza islamic college\n"
     ]
    }
   ],
   "source": [
    "#input\n",
    "a = input(\"what is your name?: \")\n",
    "b = input(\"what is yor college name?; \")"
   ]
  },
  {
   "cell_type": "code",
   "execution_count": 1,
   "metadata": {},
   "outputs": [
    {
     "name": "stdout",
     "output_type": "stream",
     "text": [
      "what is your name?: noman\n",
      "what is your name?: Noman\n",
      "wrong answer\n"
     ]
    }
   ],
   "source": [
    "a = input(\"what is your name?: \")\n",
    "b = input(\"what is your name?: \")\n",
    "\n",
    "if a == b: \n",
    "    print(\"right answer\")\n",
    "else:\n",
    "    print(\"wrong answer\")\n",
    "\n",
    "\n",
    "\n"
   ]
  },
  {
   "cell_type": "code",
   "execution_count": 2,
   "metadata": {},
   "outputs": [
    {
     "name": "stdout",
     "output_type": "stream",
     "text": [
      "what is your name?: Noman\n",
      "what is your name?: noman\n",
      "right answer\n"
     ]
    }
   ],
   "source": [
    "a = input(\"what is your name?: \")\n",
    "b = input(\"what is your name?: \")\n",
    "\n",
    "if a != b: \n",
    "    print(\"right answer\")\n",
    "else:\n",
    "    print(\"wrong answer\")\n",
    "\n"
   ]
  },
  {
   "cell_type": "code",
   "execution_count": 17,
   "metadata": {},
   "outputs": [
    {
     "name": "stdout",
     "output_type": "stream",
     "text": [
      "right answer\n"
     ]
    }
   ],
   "source": [
    "#if statement #greater than\n",
    "a = 10\n",
    "b = 5\n",
    "if a > b:\n",
    "    print(\"right answer\")\n",
    "else:\n",
    "          print(\"wrong answer\")\n",
    "    "
   ]
  },
  {
   "cell_type": "code",
   "execution_count": 18,
   "metadata": {},
   "outputs": [
    {
     "name": "stdout",
     "output_type": "stream",
     "text": [
      "wrong answer\n"
     ]
    }
   ],
   "source": [
    "#if statement #less than\n",
    "a = 10\n",
    "b = 5\n",
    "if a < b:\n",
    "    print(\"right answer\")\n",
    "else:\n",
    "          print(\"wrong answer\")\n"
   ]
  },
  {
   "cell_type": "code",
   "execution_count": 21,
   "metadata": {},
   "outputs": [
    {
     "name": "stdout",
     "output_type": "stream",
     "text": [
      "right answer\n"
     ]
    }
   ],
   "source": [
    "a = 10\n",
    "b = 10\n",
    "if a <= b:\n",
    "    print(\"right answer\")\n",
    "else:\n",
    "          print(\"wrong answer\")\n"
   ]
  },
  {
   "cell_type": "code",
   "execution_count": 22,
   "metadata": {},
   "outputs": [
    {
     "name": "stdout",
     "output_type": "stream",
     "text": [
      "wrong answer\n"
     ]
    }
   ],
   "source": [
    "a = 10\n",
    "b = 5\n",
    "if a <= b:\n",
    "    print(\"right answer\")\n",
    "else:\n",
    "          print(\"wrong answer\")\n"
   ]
  },
  {
   "cell_type": "code",
   "execution_count": 5,
   "metadata": {},
   "outputs": [
    {
     "name": "stdout",
     "output_type": "stream",
     "text": [
      "excelent\n"
     ]
    }
   ],
   "source": [
    "#else and elif statement\n",
    "a = 2\n",
    "b = 3\n",
    "c = 5\n",
    "d = 5\n",
    "if a == b:\n",
    "    print(\"good\")\n",
    "elif c == d:\n",
    "    print(\"excelent\")\n",
    "else:\n",
    "    print(\"false\")\n",
    "    "
   ]
  },
  {
   "cell_type": "code",
   "execution_count": 7,
   "metadata": {},
   "outputs": [
    {
     "name": "stdout",
     "output_type": "stream",
     "text": [
      "false\n"
     ]
    }
   ],
   "source": [
    "a = 2\n",
    "b = 3\n",
    "c = 6\n",
    "d = 1\n",
    "if a == b:\n",
    "    print(\"good\")\n",
    "elif c == d:\n",
    "    print(\"excelent\")\n",
    "elif a == d:\n",
    "    print(\"better\")\n",
    "else:\n",
    "    print(\"false\")\n",
    "    "
   ]
  },
  {
   "cell_type": "code",
   "execution_count": 28,
   "metadata": {},
   "outputs": [
    {
     "name": "stdout",
     "output_type": "stream",
     "text": [
      "good\n"
     ]
    }
   ],
   "source": [
    "#Testing sets conditions\n",
    "a = 2\n",
    "b = 3\n",
    "c = 5\n",
    "d = 5\n",
    "if a == b or c == d:\n",
    "    print(\"good\")\n",
    "else:\n",
    "    print(\"false\")\n",
    "    "
   ]
  },
  {
   "cell_type": "code",
   "execution_count": 30,
   "metadata": {},
   "outputs": [
    {
     "name": "stdout",
     "output_type": "stream",
     "text": [
      "false\n"
     ]
    }
   ],
   "source": [
    "a = 2\n",
    "b = 3\n",
    "c = 5\n",
    "d = 5\n",
    "if a == b and c == d:\n",
    "    print(\"good\")\n",
    "else:\n",
    "    print(\"false\")\n",
    "    "
   ]
  },
  {
   "cell_type": "code",
   "execution_count": 31,
   "metadata": {},
   "outputs": [
    {
     "name": "stdout",
     "output_type": "stream",
     "text": [
      "good\n"
     ]
    }
   ],
   "source": [
    "a = 2\n",
    "b = 2\n",
    "c = 5\n",
    "d = 5\n",
    "if a == b and c == d:\n",
    "    print(\"good\")\n",
    "else:\n",
    "    print(\"false\")\n",
    "    "
   ]
  },
  {
   "cell_type": "code",
   "execution_count": 32,
   "metadata": {},
   "outputs": [
    {
     "name": "stdout",
     "output_type": "stream",
     "text": [
      "false\n"
     ]
    }
   ],
   "source": [
    "a = 2\n",
    "b = 3\n",
    "c = 5\n",
    "d = 5\n",
    "if (a == b or c == d) and a == d:\n",
    "    print(\"true\")\n",
    "else:\n",
    "    print(\"false\")\n",
    "    "
   ]
  },
  {
   "cell_type": "code",
   "execution_count": 34,
   "metadata": {},
   "outputs": [
    {
     "name": "stdout",
     "output_type": "stream",
     "text": [
      "true\n"
     ]
    }
   ],
   "source": [
    "a = 5\n",
    "b = 3\n",
    "c = 5\n",
    "d = 5\n",
    "if (a == b or c == d) and a == d:\n",
    "    print(\"true\")\n",
    "else:\n",
    "    print(\"false\")\n",
    "    "
   ]
  },
  {
   "cell_type": "code",
   "execution_count": 35,
   "metadata": {},
   "outputs": [
    {
     "name": "stdout",
     "output_type": "stream",
     "text": [
      "good marks: 80\n",
      "good marks: 82\n",
      "A+\n"
     ]
    }
   ],
   "source": [
    "a = int(input(\"good marks: \"))\n",
    "b = int(input(\"good marks: \"))\n",
    "\n",
    "if a >= 80 or b >=80:\n",
    "    print(\"A+\")\n",
    "elif a >=70 or b >= 60:\n",
    "    print(\"A\")\n",
    "else:\n",
    "    print(\"fail\")\n",
    "    "
   ]
  },
  {
   "cell_type": "code",
   "execution_count": 3,
   "metadata": {},
   "outputs": [
    {
     "name": "stdout",
     "output_type": "stream",
     "text": [
      "good marks: 80\n",
      "good marks: 70\n",
      "A+\n"
     ]
    }
   ],
   "source": [
    "a = int(input(\"good marks: \"))\n",
    "b = int(input(\"good marks: \"))\n",
    "\n",
    "if a >= 80 or b >=80:\n",
    "    print(\"A+\")\n",
    "elif a >=70 or b >= 60:\n",
    "    print(\"A\")\n",
    "else:\n",
    "    print(\"fail\")\n",
    "\n",
    "    "
   ]
  },
  {
   "cell_type": "code",
   "execution_count": 27,
   "metadata": {},
   "outputs": [
    {
     "name": "stdout",
     "output_type": "stream",
     "text": [
      "5\n"
     ]
    }
   ],
   "source": [
    "\n",
    "x = 5\n",
    "y = 5 \n",
    "a = 15\n",
    "b = 20\n",
    "c = 35\n",
    "d = 35\n",
    "e = 5 \n",
    "f = 8\n",
    "g = 5\n",
    "h = 9\n",
    "if ( x == y or a == b) and c == d:\n",
    "    h = g\n",
    "    print(h)\n",
    "else:\n",
    "    e = f\n",
    "    print(e)\n",
    "        "
   ]
  },
  {
   "cell_type": "code",
   "execution_count": null,
   "metadata": {},
   "outputs": [],
   "source": []
  },
  {
   "cell_type": "code",
   "execution_count": 34,
   "metadata": {},
   "outputs": [
    {
     "name": "stdout",
     "output_type": "stream",
     "text": [
      "0\n"
     ]
    }
   ],
   "source": [
    "#nested if\n",
    "x = 5\n",
    "y = 5\n",
    "a = 21\n",
    "b = 21\n",
    "c = 36\n",
    "d = 35\n",
    "e = 5 \n",
    "f = 4\n",
    "g = 8\n",
    "h = 0\n",
    "if a == b:\n",
    "    if b == c:\n",
    "        g = h\n",
    "        print(g)\n",
    "    elif x == y:\n",
    "            g = h\n",
    "            print(g)\n",
    "    else:\n",
    "                e = f\n",
    "                print(e)\n",
    "else:\n",
    "    e = f\n",
    "    print(e)\n",
    "        \n",
    "       "
   ]
  },
  {
   "cell_type": "code",
   "execution_count": 26,
   "metadata": {},
   "outputs": [
    {
     "name": "stdout",
     "output_type": "stream",
     "text": [
      "write the value: 4\n",
      "9\n"
     ]
    }
   ],
   "source": [
    "#converting string into intigers\n",
    "a = int(input(\"write the value: \"))\n",
    "print(a + 5)"
   ]
  },
  {
   "cell_type": "code",
   "execution_count": 2,
   "metadata": {},
   "outputs": [
    {
     "name": "stdout",
     "output_type": "stream",
     "text": [
      "write the value: 4\n",
      "9\n"
     ]
    }
   ],
   "source": [
    "\n",
    "a = input(\"write the value: \")\n",
    "a = int(a)\n",
    "print(a + 5)"
   ]
  },
  {
   "cell_type": "code",
   "execution_count": 1,
   "metadata": {},
   "outputs": [],
   "source": []
  },
  {
   "cell_type": "code",
   "execution_count": null,
   "metadata": {},
   "outputs": [],
   "source": []
  },
  {
   "cell_type": "code",
   "execution_count": null,
   "metadata": {},
   "outputs": [],
   "source": []
  },
  {
   "cell_type": "code",
   "execution_count": null,
   "metadata": {},
   "outputs": [],
   "source": []
  }
 ],
 "metadata": {
  "kernelspec": {
   "display_name": "Python 3",
   "language": "python",
   "name": "python3"
  },
  "language_info": {
   "codemirror_mode": {
    "name": "ipython",
    "version": 3
   },
   "file_extension": ".py",
   "mimetype": "text/x-python",
   "name": "python",
   "nbconvert_exporter": "python",
   "pygments_lexer": "ipython3",
   "version": "3.7.6"
  }
 },
 "nbformat": 4,
 "nbformat_minor": 4
}
