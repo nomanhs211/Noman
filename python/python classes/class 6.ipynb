{
 "cells": [
  {
   "cell_type": "code",
   "execution_count": 2,
   "metadata": {},
   "outputs": [
    {
     "name": "stdout",
     "output_type": "stream",
     "text": [
      "{'name': 'Zunaib', 'class': 5, 'age': 18}\n",
      "Zunaib\n"
     ]
    }
   ],
   "source": [
    "#dictionaries\n",
    "school = {\n",
    "    \"name\":\"Zunaib\",\n",
    "    \"class\":5,\n",
    "    \"age\":18,\n",
    "}\n",
    "print(school)\n",
    "print(school[\"name\"])"
   ]
  },
  {
   "cell_type": "code",
   "execution_count": 4,
   "metadata": {},
   "outputs": [
    {
     "name": "stdout",
     "output_type": "stream",
     "text": [
      "{'name': 'Bilal', 'class': 5, 'age': 18}\n"
     ]
    }
   ],
   "source": [
    "#update dictionary/adding items\n",
    "school[\"name\"]  = \"Bilal\"\n",
    "print(school)"
   ]
  },
  {
   "cell_type": "code",
   "execution_count": 6,
   "metadata": {},
   "outputs": [
    {
     "name": "stdout",
     "output_type": "stream",
     "text": [
      "{'name': 'Bilal', 'class': 5, 'age': 18, 'Adress': 'Balochistan', 'Address': 'Balochistan'}\n"
     ]
    }
   ],
   "source": [
    "school[\"Address\"] = \"Balochistan\"\n",
    "print(school)"
   ]
  },
  {
   "cell_type": "code",
   "execution_count": 9,
   "metadata": {},
   "outputs": [
    {
     "name": "stdout",
     "output_type": "stream",
     "text": [
      "{1: 'Zunaib', 2: 5, 3: 18}\n"
     ]
    }
   ],
   "source": [
    "school = {\n",
    "    1:\"Zunaib\",\n",
    "    2:5,\n",
    "    3:18,\n",
    "}\n",
    "print(school)"
   ]
  },
  {
   "cell_type": "code",
   "execution_count": 10,
   "metadata": {},
   "outputs": [
    {
     "name": "stdout",
     "output_type": "stream",
     "text": [
      "{'name': 'Zunaib', 'class': 5}\n"
     ]
    }
   ],
   "source": [
    "#deleting items\n",
    "school = {\n",
    "    \"name\":\"Zunaib\",\n",
    "    \"class\":5,\n",
    "    \"age\":18,\n",
    "}\n",
    "del school[\"age\"]\n",
    "print(school)"
   ]
  },
  {
   "cell_type": "code",
   "execution_count": 11,
   "metadata": {},
   "outputs": [
    {
     "name": "stdout",
     "output_type": "stream",
     "text": [
      "name\n",
      "class\n",
      "age\n"
     ]
    }
   ],
   "source": [
    "#dictionaries looping\n",
    "school = {\n",
    "    \"name\":\"Zunaib\",\n",
    "    \"class\":5,\n",
    "    \"age\":18,\n",
    "}\n",
    "for academy in school:\n",
    "    print(academy)"
   ]
  },
  {
   "cell_type": "code",
   "execution_count": 16,
   "metadata": {},
   "outputs": [
    {
     "name": "stdout",
     "output_type": "stream",
     "text": [
      "name\n",
      "class\n",
      "age\n"
     ]
    }
   ],
   "source": [
    "school = {\n",
    "    \"name\":\"Zunaib\",\n",
    "    \"class\":5,\n",
    "    \"age\":18,\n",
    "}\n",
    "for academy in school.keys():\n",
    "    print(academy)\n"
   ]
  },
  {
   "cell_type": "code",
   "execution_count": 17,
   "metadata": {},
   "outputs": [
    {
     "name": "stdout",
     "output_type": "stream",
     "text": [
      "Zunaib\n",
      "5\n",
      "18\n"
     ]
    }
   ],
   "source": [
    "school = {\n",
    "    \"name\":\"Zunaib\",\n",
    "    \"class\":5,\n",
    "    \"age\":18,\n",
    "}\n",
    "for academy in school.values():\n",
    "    print(academy)\n"
   ]
  },
  {
   "cell_type": "code",
   "execution_count": 21,
   "metadata": {},
   "outputs": [
    {
     "name": "stdout",
     "output_type": "stream",
     "text": [
      "('name', 'Zunaib')\n",
      "('class', 5)\n",
      "('age', 18)\n"
     ]
    }
   ],
   "source": [
    "school = {\n",
    "    \"name\":\"Zunaib\",\n",
    "    \"class\":5,\n",
    "    \"age\":18,\n",
    "}\n",
    "for academy in school.items():\n",
    "    print(academy)\n"
   ]
  },
  {
   "cell_type": "code",
   "execution_count": 22,
   "metadata": {},
   "outputs": [
    {
     "name": "stdout",
     "output_type": "stream",
     "text": [
      "name Zunaib\n",
      "class 5\n",
      "age 18\n"
     ]
    }
   ],
   "source": [
    "#multiple variable through for loop\n",
    "school = {\n",
    "    \"name\":\"Zunaib\",\n",
    "    \"class\":5,\n",
    "    \"age\":18,\n",
    "}\n",
    "for academy_key,academy_value in school.items():\n",
    "    print(academy_key,academy_value)\n"
   ]
  },
  {
   "cell_type": "code",
   "execution_count": 27,
   "metadata": {},
   "outputs": [
    {
     "name": "stdout",
     "output_type": "stream",
     "text": [
      "[{'name': 'Zunaib', 'class': 5, 'age': 18, 'Address': 'Karachi Pakistan', 'phone': 3337778878}, {'name': 'Bilal', 'class': 4, 'age': 19, 'Address': 'Karachi Pakistan', 'phone': 3337778544}, {'name': 'Ahmed', 'class': 9, 'age': 17, 'Address': 'Karachi Pakistan', 'phone': 333774544}]\n"
     ]
    }
   ],
   "source": [
    "#list of dictionaries\n",
    "school =[ \n",
    "    {\n",
    "    \"name\":\"Zunaib\",\n",
    "    \"class\":5,\n",
    "    \"age\":18,\n",
    "    \"Address\":\"Karachi Pakistan\",\n",
    "    \"phone\":3337778878\n",
    "},\n",
    "    {\n",
    "    \"name\":\"Bilal\",\n",
    "    \"class\":4,\n",
    "    \"age\":19,\n",
    "    \"Address\":\"Karachi Pakistan\",\n",
    "    \"phone\": 3337778544\n",
    "},\n",
    "    {\n",
    "    \"name\":\"Ahmed\",\n",
    "    \"class\":9,\n",
    "    \"age\":17,\n",
    "    \"Address\":\"Karachi Pakistan\",\n",
    "    \"phone\": 333774544\n",
    "}\n",
    "]\n",
    "print(school)"
   ]
  },
  {
   "cell_type": "code",
   "execution_count": 32,
   "metadata": {},
   "outputs": [
    {
     "name": "stdout",
     "output_type": "stream",
     "text": [
      "{'name': 'Bilal', 'class': 4, 'age': 19, 'Address': 'Karachi Pakistan', 'phone': 3337778544}\n",
      "Zunaib\n"
     ]
    }
   ],
   "source": [
    "#call dictionaries of list\n",
    "print(school[1])\n",
    "print(school[0][\"name\"])"
   ]
  },
  {
   "cell_type": "code",
   "execution_count": 13,
   "metadata": {},
   "outputs": [
    {
     "name": "stdout",
     "output_type": "stream",
     "text": [
      "[{'name': 'Zunaib', 'class': 5, 'age': 18, 'Address': 'Karachi Pakistan', 'phone': 3337778878}, {'name': 'Bilal', 'class': 4, 'age': 19, 'Address': 'Karachi Pakistan', 'phone': 3337778544}, {'name': 'Ahmed', 'class': 9, 'age': 17, 'Address': 'Karachi Pakistan', 'phone': 333774544}, {'name': 'Aslam', 'class': 7, 'age': 50, 'Address': 'Karachi Pakistan', 'phone': 333774544}]\n"
     ]
    }
   ],
   "source": [
    "# append another dictionary in the list\n",
    "school =[ \n",
    "    {\n",
    "    \"name\":\"Zunaib\",\n",
    "    \"class\":5,\n",
    "    \"age\":18,\n",
    "    \"Address\":\"Karachi Pakistan\",\n",
    "    \"phone\":3337778878\n",
    "},\n",
    "    {\n",
    "    \"name\":\"Bilal\",\n",
    "    \"class\":4,\n",
    "    \"age\":19,\n",
    "    \"Address\":\"Karachi Pakistan\",\n",
    "    \"phone\": 3337778544\n",
    "},\n",
    "    {\n",
    "    \"name\":\"Ahmed\",\n",
    "    \"class\":9,\n",
    "    \"age\":17,\n",
    "    \"Address\":\"Karachi Pakistan\",\n",
    "    \"phone\": 333774544\n",
    "}\n",
    "]\n",
    "new_school = {\n",
    "    \"name\":\"Aslam\",\n",
    "    \"class\":7,\n",
    "    \"age\":50,\n",
    "    \"Address\":\"Karachi Pakistan\",\n",
    "    \"phone\": 333774544\n",
    "}\n",
    "school.append(new_school)    \n",
    "print(school)"
   ]
  },
  {
   "cell_type": "code",
   "execution_count": null,
   "metadata": {},
   "outputs": [],
   "source": []
  },
  {
   "cell_type": "code",
   "execution_count": null,
   "metadata": {},
   "outputs": [],
   "source": []
  },
  {
   "cell_type": "code",
   "execution_count": null,
   "metadata": {},
   "outputs": [],
   "source": []
  },
  {
   "cell_type": "code",
   "execution_count": null,
   "metadata": {},
   "outputs": [],
   "source": [
    "\n",
    "\n"
   ]
  }
 ],
 "metadata": {
  "kernelspec": {
   "display_name": "Python 3",
   "language": "python",
   "name": "python3"
  },
  "language_info": {
   "codemirror_mode": {
    "name": "ipython",
    "version": 3
   },
   "file_extension": ".py",
   "mimetype": "text/x-python",
   "name": "python",
   "nbconvert_exporter": "python",
   "pygments_lexer": "ipython3",
   "version": "3.7.6"
  }
 },
 "nbformat": 4,
 "nbformat_minor": 4
}
