{
 "cells": [
  {
   "cell_type": "code",
   "execution_count": 4,
   "metadata": {},
   "outputs": [
    {
     "name": "stdout",
     "output_type": "stream",
     "text": [
      "Bilal    Ahmed \n",
      "age :    6 years\n",
      "class1 : 4th \n",
      "marks :  500\n"
     ]
    }
   ],
   "source": [
    "#functions through dictionary\n",
    "def fullName(fname, lname,**other_info):\n",
    "    print(fname ,lname)\n",
    "    for key, value in other_info.items():\n",
    "        print(key,\":\",value)\n",
    "    \n",
    "fullName(\"Bilal \",\"  Ahmed \",age = \"   6 years\",class1 = \"4th \",marks = \" 500\")"
   ]
  },
  {
   "cell_type": "code",
   "execution_count": 5,
   "metadata": {},
   "outputs": [
    {
     "name": "stdout",
     "output_type": "stream",
     "text": [
      "20\n"
     ]
    }
   ],
   "source": [
    "#store some value\n",
    "def add_num(a,b):\n",
    "    c = a + b\n",
    "    return c\n",
    "\n",
    "store = add_num(15,5)\n",
    "print(store)"
   ]
  },
  {
   "cell_type": "code",
   "execution_count": 6,
   "metadata": {},
   "outputs": [
    {
     "name": "stdout",
     "output_type": "stream",
     "text": [
      "25\n"
     ]
    }
   ],
   "source": [
    "def add_num(a,b):\n",
    "    c = a + b\n",
    "    return c\n",
    "\n",
    "store = add_num(15,5)\n",
    "print(store+5)"
   ]
  },
  {
   "cell_type": "code",
   "execution_count": 7,
   "metadata": {},
   "outputs": [
    {
     "name": "stdout",
     "output_type": "stream",
     "text": [
      "20\n"
     ]
    }
   ],
   "source": [
    "a = 60\n",
    "def add_num(a,b):\n",
    "    c = a + b\n",
    "    return c\n",
    "\n",
    "store = add_num(15,5)\n",
    "print(store)\n",
    "#c is a local variable because that is in the body of function it can't be called out of the function\n",
    "#a is a global variable because that is out of body of any function it can be called  inside the function\n"
   ]
  },
  {
   "cell_type": "code",
   "execution_count": 16,
   "metadata": {},
   "outputs": [
    {
     "ename": "NameError",
     "evalue": "name 'b' is not defined",
     "output_type": "error",
     "traceback": [
      "\u001b[1;31m---------------------------------------------------------------------------\u001b[0m",
      "\u001b[1;31mNameError\u001b[0m                                 Traceback (most recent call last)",
      "\u001b[1;32m<ipython-input-16-6bcb92452e3d>\u001b[0m in \u001b[0;36m<module>\u001b[1;34m\u001b[0m\n\u001b[0;32m      9\u001b[0m \u001b[1;33m\u001b[0m\u001b[0m\n\u001b[0;32m     10\u001b[0m \u001b[1;33m\u001b[0m\u001b[0m\n\u001b[1;32m---> 11\u001b[1;33m \u001b[0mprint\u001b[0m\u001b[1;33m(\u001b[0m\u001b[0mb\u001b[0m\u001b[1;33m)\u001b[0m\u001b[1;33m\u001b[0m\u001b[1;33m\u001b[0m\u001b[0m\n\u001b[0m",
      "\u001b[1;31mNameError\u001b[0m: name 'b' is not defined"
     ]
    }
   ],
   "source": [
    "#local vriable can't be called out of the function e.g. i want to call b variable out of the function but it can't.\n",
    "def add_num():\n",
    "    a = 3\n",
    "    b = 5\n",
    "    c = a + b\n",
    "    print(c)\n",
    "\n",
    "    \n",
    "    \n",
    "    \n",
    "print(b)    "
   ]
  },
  {
   "cell_type": "code",
   "execution_count": 15,
   "metadata": {},
   "outputs": [
    {
     "name": "stdout",
     "output_type": "stream",
     "text": [
      "9\n"
     ]
    }
   ],
   "source": [
    "#global variable can be called  inside the function\n",
    "a = 4\n",
    "def add_num():\n",
    "    b = 5\n",
    "    c = a + b\n",
    "    print(c)\n",
    "\n",
    "add_num()"
   ]
  },
  {
   "cell_type": "code",
   "execution_count": 17,
   "metadata": {},
   "outputs": [
    {
     "name": "stdout",
     "output_type": "stream",
     "text": [
      "class Name functions\n",
      "Noman Ahmed\n"
     ]
    }
   ],
   "source": [
    "#function in the function\n",
    "def fullname():\n",
    "    fname = \"Noman\"\n",
    "    lname = \"Ahmed\"\n",
    "    print(fname + \" \" + lname)\n",
    "    \n",
    "def classname():\n",
    "    print(\"class Name functions\")\n",
    "    fullname()\n",
    "\n",
    "classname()    \n"
   ]
  },
  {
   "cell_type": "code",
   "execution_count": 24,
   "metadata": {},
   "outputs": [
    {
     "name": "stdout",
     "output_type": "stream",
     "text": [
      "1  Noor e hamza islamic college\n",
      "2  Noor e hamza islamic college\n",
      "3  Noor e hamza islamic college\n",
      "4  Noor e hamza islamic college\n",
      "5  Noor e hamza islamic college\n",
      "6  Noor e hamza islamic college\n",
      "7  Noor e hamza islamic college\n",
      "8  Noor e hamza islamic college\n",
      "9  Noor e hamza islamic college\n",
      "10  Noor e hamza islamic college\n"
     ]
    }
   ],
   "source": [
    "#while Loop\n",
    "\n",
    "num = 1\n",
    "while num <= 10:\n",
    "    print(num ,\" Noor e hamza islamic college\")\n",
    "    num = num + 1"
   ]
  },
  {
   "cell_type": "code",
   "execution_count": 25,
   "metadata": {},
   "outputs": [
    {
     "name": "stdout",
     "output_type": "stream",
     "text": [
      "1  Noor e hamza islamic college\n",
      "3  Noor e hamza islamic college\n",
      "5  Noor e hamza islamic college\n",
      "7  Noor e hamza islamic college\n",
      "9  Noor e hamza islamic college\n"
     ]
    }
   ],
   "source": [
    "#while Loop\n",
    "\n",
    "num = 1\n",
    "while num <= 10:\n",
    "    print(num ,\" Noor e hamza islamic college\")\n",
    "    num = num + 2"
   ]
  },
  {
   "cell_type": "code",
   "execution_count": 2,
   "metadata": {},
   "outputs": [
    {
     "name": "stdout",
     "output_type": "stream",
     "text": [
      "2 x 1 = 2\n",
      "2 x 2 = 4\n",
      "2 x 3 = 6\n",
      "2 x 4 = 8\n",
      "2 x 5 = 10\n",
      "2 x 6 = 12\n",
      "2 x 7 = 14\n",
      "2 x 8 = 16\n",
      "2 x 9 = 18\n",
      "2 x 10 = 20\n"
     ]
    }
   ],
   "source": [
    "num = 1\n",
    "i = 2\n",
    "while num <= 10:\n",
    "    print(i, \"x\", num, \"=\",num*i)\n",
    "    num = num + 1"
   ]
  },
  {
   "cell_type": "code",
   "execution_count": null,
   "metadata": {},
   "outputs": [],
   "source": []
  }
 ],
 "metadata": {
  "kernelspec": {
   "display_name": "Python 3",
   "language": "python",
   "name": "python3"
  },
  "language_info": {
   "codemirror_mode": {
    "name": "ipython",
    "version": 3
   },
   "file_extension": ".py",
   "mimetype": "text/x-python",
   "name": "python",
   "nbconvert_exporter": "python",
   "pygments_lexer": "ipython3",
   "version": "3.7.6"
  }
 },
 "nbformat": 4,
 "nbformat_minor": 4
}
