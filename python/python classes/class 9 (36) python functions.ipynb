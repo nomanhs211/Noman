{
 "cells": [
  {
   "cell_type": "code",
   "execution_count": 19,
   "metadata": {},
   "outputs": [
    {
     "name": "stdout",
     "output_type": "stream",
     "text": [
      "4\n"
     ]
    }
   ],
   "source": [
    "#function\n",
    "\n",
    "def add_num():\n",
    "    a = 2\n",
    "    b = 2\n",
    "    c = a + b\n",
    "    print(c)\n",
    "\n",
    "add_num()"
   ]
  },
  {
   "cell_type": "code",
   "execution_count": 18,
   "metadata": {},
   "outputs": [
    {
     "name": "stdout",
     "output_type": "stream",
     "text": [
      "4\n",
      "4\n",
      "4\n",
      "4\n"
     ]
    }
   ],
   "source": [
    "add_num()\n",
    "add_num()\n",
    "add_num()\n",
    "add_num()"
   ]
  },
  {
   "cell_type": "code",
   "execution_count": 21,
   "metadata": {},
   "outputs": [
    {
     "name": "stdout",
     "output_type": "stream",
     "text": [
      "8\n",
      "6\n",
      "10\n"
     ]
    }
   ],
   "source": [
    "def add_num(a,b):\n",
    "    c = a + b\n",
    "    print(c)\n",
    "\n",
    "add_num(5,3)\n",
    "add_num(2,4)\n",
    "add_num(3,7)\n",
    "#(a,b) is called parameter,add_num(2,3) 2 and 3 are called arguments"
   ]
  },
  {
   "cell_type": "code",
   "execution_count": 22,
   "metadata": {},
   "outputs": [
    {
     "name": "stdout",
     "output_type": "stream",
     "text": [
      "write first name: Noman\n",
      "write last name: Ahmed\n",
      "NomanAhmed\n"
     ]
    }
   ],
   "source": [
    "def fullName(fname,lname):\n",
    "    c = fname + lname\n",
    "    print(c)\n",
    "    \n",
    "fname = input(\"write first name: \")\n",
    "lname = input(\"write last name: \")\n",
    "fullName(fname,lname)"
   ]
  },
  {
   "cell_type": "code",
   "execution_count": 49,
   "metadata": {},
   "outputs": [
    {
     "name": "stdout",
     "output_type": "stream",
     "text": [
      "Noman Ahmed\n"
     ]
    }
   ],
   "source": [
    "def fullName(fname,lname):\n",
    "    c = fname + lname\n",
    "    print(c)\n",
    "    \n",
    "fullName(\"Noman \",\"Ahmed\")"
   ]
  },
  {
   "cell_type": "code",
   "execution_count": 28,
   "metadata": {},
   "outputs": [
    {
     "name": "stdout",
     "output_type": "stream",
     "text": [
      "20\n",
      "10\n",
      "75\n",
      "3.0\n"
     ]
    }
   ],
   "source": [
    "def add_num(a,b):\n",
    "    c = a + b\n",
    "    print(c)\n",
    "    \n",
    "def sub_num(a,b):\n",
    "    c = a - b\n",
    "    print(c)\n",
    "\n",
    "def mul_num(a,b):\n",
    "    c = a * b\n",
    "    print(c)\n",
    "    \n",
    "def div_num(a,b):\n",
    "    c = a / b\n",
    "    print(c)\n",
    "    \n",
    "add_num(15,5)\n",
    "sub_num(15,5)\n",
    "mul_num(15,5)\n",
    "div_num(15,5)\n",
    "\n",
    "    \n",
    "        \n",
    "        "
   ]
  },
  {
   "cell_type": "code",
   "execution_count": 48,
   "metadata": {},
   "outputs": [
    {
     "name": "stdout",
     "output_type": "stream",
     "text": [
      "Noman Ahmed\n"
     ]
    }
   ],
   "source": [
    "#positional arguments\n",
    "def fullName(fname,lname):\n",
    "    c = fname + lname\n",
    "    print(c)\n",
    "    \n",
    "fullName(\"Noman \",\"Ahmed\")"
   ]
  },
  {
   "cell_type": "code",
   "execution_count": 47,
   "metadata": {},
   "outputs": [
    {
     "name": "stdout",
     "output_type": "stream",
     "text": [
      "Noman Ahmed\n"
     ]
    }
   ],
   "source": [
    "#keyword argument\n",
    "\n",
    "def fullName(fname, lname):\n",
    "    c = fname + lname\n",
    "    print(c)\n",
    "    \n",
    "fullName(lname = \"Ahmed\",fname = \"Noman \")"
   ]
  },
  {
   "cell_type": "code",
   "execution_count": 58,
   "metadata": {},
   "outputs": [
    {
     "name": "stdout",
     "output_type": "stream",
     "text": [
      "Noman Ahmed 4th 5 years\n"
     ]
    }
   ],
   "source": [
    "def fullName(fname, lname,class1 = \"4th \",age = \"5 years\"):\n",
    "    c = fname + lname + class1 + age\n",
    "    print(c)\n",
    "    \n",
    "fullName(\"Noman \",\"Ahmed \")"
   ]
  },
  {
   "cell_type": "code",
   "execution_count": 59,
   "metadata": {},
   "outputs": [
    {
     "name": "stdout",
     "output_type": "stream",
     "text": [
      "Bilal Ahmed 4th 6 years\n"
     ]
    }
   ],
   "source": [
    "#exception case one student's age is 6\n",
    "def fullName(fname, lname,class1 = \"4th \",age = \"5 years\"):\n",
    "    c = fname + lname + class1 + age\n",
    "    print(c)\n",
    "    \n",
    "fullName(\"Bilal \",\"Ahmed \",age = \"6 years\")"
   ]
  },
  {
   "cell_type": "code",
   "execution_count": 63,
   "metadata": {},
   "outputs": [
    {
     "name": "stdout",
     "output_type": "stream",
     "text": [
      "Bilal Ahmed 4th 6 years\n"
     ]
    }
   ],
   "source": [
    "#mixing keyword and positional argument\n",
    "\n",
    "def fullName(fname, lname,class1 = \"4th \",age = \"5 years\"):\n",
    "    c = fname + lname + class1 + age\n",
    "    print(c)\n",
    "    \n",
    "fullName(\"Bilal \",\"Ahmed \",age = \"6 years\",class1 = \"4th \")"
   ]
  },
  {
   "cell_type": "code",
   "execution_count": 74,
   "metadata": {},
   "outputs": [
    {
     "name": "stdout",
     "output_type": "stream",
     "text": [
      "Bilal  Ahmed  ('Mengal ', '5th', '6 years')\n"
     ]
    }
   ],
   "source": [
    "#add other information multiple time \n",
    "def fullName(fname, lname, *other_info):\n",
    "    print(fname, lname, other_info)\n",
    "    \n",
    "fullName(\"Bilal \",\"Ahmed \",\"Mengal \",\"5th\",\"6 years\",)"
   ]
  },
  {
   "cell_type": "code",
   "execution_count": null,
   "metadata": {},
   "outputs": [],
   "source": []
  }
 ],
 "metadata": {
  "kernelspec": {
   "display_name": "Python 3",
   "language": "python",
   "name": "python3"
  },
  "language_info": {
   "codemirror_mode": {
    "name": "ipython",
    "version": 3
   },
   "file_extension": ".py",
   "mimetype": "text/x-python",
   "name": "python",
   "nbconvert_exporter": "python",
   "pygments_lexer": "ipython3",
   "version": "3.7.6"
  }
 },
 "nbformat": 4,
 "nbformat_minor": 4
}
